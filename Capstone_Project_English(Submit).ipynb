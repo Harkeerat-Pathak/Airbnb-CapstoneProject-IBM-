{
 "cells": [
  {
   "cell_type": "markdown",
   "id": "5daa76fe",
   "metadata": {},
   "source": [
    "<center><h1>Capstone Project Creation</h1></center>\n",
    "<center><h3>IBM SkillsBuild Europe Delivery - Data Analytics</h3></center>\n",
    "\n",
    "\n",
    "# Pre-requisite\n",
    "\n",
    "* Understanding of Python, Power BI or Tableau\n",
    "* Understanding of Data Cleaning \n",
    "* Understanding Data Visualization"
   ]
  },
  {
   "cell_type": "markdown",
   "id": "ce8639cb",
   "metadata": {},
   "source": [
    "### Data Analytics of Airbnb Data:\n",
    "\n",
    "#### Objective:\n",
    "\n",
    "In this exericise, you will be performing Data Analytics on an Open Dataset dataset coming from Airbnb. Some of the tasks include\n",
    "- Data Cleaning.\n",
    "- Data Transformation\n",
    "- Data Visualization.\n",
    "\n",
    "#### Overview of Airbnb Data:\n",
    "\n",
    "People's main criteria when visiting new places are reasonable accommodation and food. Airbnb (Air-Bed-Breakfast) is an online marketplace created to meet this need of people by renting out their homes for a short term. They offer this facility at a relatively lower price than hotels. Further people worldwide prefer the homely and economical service offered by them. They offer services across various geographical locations\n",
    "\n",
    "#### Dataset Source\n",
    "\n",
    "YOu can get the dataset for this assessment using the following link: https://www.kaggle.com/datasets/arianazmoudeh/airbnbopendata\n",
    "\n",
    "This dataset contains information such as the neighborhood offering these services, room type, price,avaliabilty, reviews, service fee, cancellation policy and rules to use the house. This analysis will help airbnb in improving its services.  \n",
    "\n",
    "So all the best for your Data Analytics Journey on Airbnb data!!!"
   ]
  },
  {
   "cell_type": "markdown",
   "id": "9a86cf69",
   "metadata": {},
   "source": [
    "## Task 1: Data Loading (Python)\n",
    "\n",
    "1. Read the csv file and load it into a pandas dataframe.\n",
    "2. Display the first five rows of your dataframe.\n",
    "3. Display the data types of the columns."
   ]
  },
  {
   "cell_type": "code",
   "execution_count": 1,
   "id": "3e5ea376",
   "metadata": {},
   "outputs": [],
   "source": [
    "## Import Essential Libraries\n",
    "import pandas as pd\n",
    "import numpy as np\n",
    "import matplotlib.pyplot as plt\n",
    "import seaborn as sns\n",
    "%matplotlib inline\n"
   ]
  },
  {
   "cell_type": "code",
   "execution_count": 2,
   "id": "da84f88d",
   "metadata": {},
   "outputs": [],
   "source": [
    "import warnings\n",
    "warnings.filterwarnings('ignore')"
   ]
  },
  {
   "cell_type": "code",
   "execution_count": 3,
   "id": "ea81139b",
   "metadata": {},
   "outputs": [],
   "source": [
    "# Import the csv dataset\n",
    "data = pd.read_csv(\"C:\\\\Users\\\\abypt\\\\Documents\\\\Python Executed files(IBM Trainig)\\\\Airbnb_Open_Data.csv\")"
   ]
  },
  {
   "cell_type": "code",
   "execution_count": 4,
   "id": "18c08d94",
   "metadata": {},
   "outputs": [
    {
     "data": {
      "text/html": [
       "<div>\n",
       "<style scoped>\n",
       "    .dataframe tbody tr th:only-of-type {\n",
       "        vertical-align: middle;\n",
       "    }\n",
       "\n",
       "    .dataframe tbody tr th {\n",
       "        vertical-align: top;\n",
       "    }\n",
       "\n",
       "    .dataframe thead th {\n",
       "        text-align: right;\n",
       "    }\n",
       "</style>\n",
       "<table border=\"1\" class=\"dataframe\">\n",
       "  <thead>\n",
       "    <tr style=\"text-align: right;\">\n",
       "      <th></th>\n",
       "      <th>id</th>\n",
       "      <th>NAME</th>\n",
       "      <th>host id</th>\n",
       "      <th>host_identity_verified</th>\n",
       "      <th>host name</th>\n",
       "      <th>neighbourhood group</th>\n",
       "      <th>neighbourhood</th>\n",
       "      <th>lat</th>\n",
       "      <th>long</th>\n",
       "      <th>country</th>\n",
       "      <th>...</th>\n",
       "      <th>service fee</th>\n",
       "      <th>minimum nights</th>\n",
       "      <th>number of reviews</th>\n",
       "      <th>last review</th>\n",
       "      <th>reviews per month</th>\n",
       "      <th>review rate number</th>\n",
       "      <th>calculated host listings count</th>\n",
       "      <th>availability 365</th>\n",
       "      <th>house_rules</th>\n",
       "      <th>license</th>\n",
       "    </tr>\n",
       "  </thead>\n",
       "  <tbody>\n",
       "    <tr>\n",
       "      <th>0</th>\n",
       "      <td>1001254</td>\n",
       "      <td>Clean &amp; quiet apt home by the park</td>\n",
       "      <td>80014485718</td>\n",
       "      <td>unconfirmed</td>\n",
       "      <td>Madaline</td>\n",
       "      <td>Brooklyn</td>\n",
       "      <td>Kensington</td>\n",
       "      <td>40.64749</td>\n",
       "      <td>-73.97237</td>\n",
       "      <td>United States</td>\n",
       "      <td>...</td>\n",
       "      <td>$193</td>\n",
       "      <td>10.0</td>\n",
       "      <td>9.0</td>\n",
       "      <td>10/19/2021</td>\n",
       "      <td>0.21</td>\n",
       "      <td>4.0</td>\n",
       "      <td>6.0</td>\n",
       "      <td>286.0</td>\n",
       "      <td>Clean up and treat the home the way you'd like...</td>\n",
       "      <td>NaN</td>\n",
       "    </tr>\n",
       "    <tr>\n",
       "      <th>1</th>\n",
       "      <td>1002102</td>\n",
       "      <td>Skylit Midtown Castle</td>\n",
       "      <td>52335172823</td>\n",
       "      <td>verified</td>\n",
       "      <td>Jenna</td>\n",
       "      <td>Manhattan</td>\n",
       "      <td>Midtown</td>\n",
       "      <td>40.75362</td>\n",
       "      <td>-73.98377</td>\n",
       "      <td>United States</td>\n",
       "      <td>...</td>\n",
       "      <td>$28</td>\n",
       "      <td>30.0</td>\n",
       "      <td>45.0</td>\n",
       "      <td>5/21/2022</td>\n",
       "      <td>0.38</td>\n",
       "      <td>4.0</td>\n",
       "      <td>2.0</td>\n",
       "      <td>228.0</td>\n",
       "      <td>Pet friendly but please confirm with me if the...</td>\n",
       "      <td>NaN</td>\n",
       "    </tr>\n",
       "    <tr>\n",
       "      <th>2</th>\n",
       "      <td>1002403</td>\n",
       "      <td>THE VILLAGE OF HARLEM....NEW YORK !</td>\n",
       "      <td>78829239556</td>\n",
       "      <td>NaN</td>\n",
       "      <td>Elise</td>\n",
       "      <td>Manhattan</td>\n",
       "      <td>Harlem</td>\n",
       "      <td>40.80902</td>\n",
       "      <td>-73.94190</td>\n",
       "      <td>United States</td>\n",
       "      <td>...</td>\n",
       "      <td>$124</td>\n",
       "      <td>3.0</td>\n",
       "      <td>0.0</td>\n",
       "      <td>NaN</td>\n",
       "      <td>NaN</td>\n",
       "      <td>5.0</td>\n",
       "      <td>1.0</td>\n",
       "      <td>352.0</td>\n",
       "      <td>I encourage you to use my kitchen, cooking and...</td>\n",
       "      <td>NaN</td>\n",
       "    </tr>\n",
       "    <tr>\n",
       "      <th>3</th>\n",
       "      <td>1002755</td>\n",
       "      <td>NaN</td>\n",
       "      <td>85098326012</td>\n",
       "      <td>unconfirmed</td>\n",
       "      <td>Garry</td>\n",
       "      <td>Brooklyn</td>\n",
       "      <td>Clinton Hill</td>\n",
       "      <td>40.68514</td>\n",
       "      <td>-73.95976</td>\n",
       "      <td>United States</td>\n",
       "      <td>...</td>\n",
       "      <td>$74</td>\n",
       "      <td>30.0</td>\n",
       "      <td>270.0</td>\n",
       "      <td>7/5/2019</td>\n",
       "      <td>4.64</td>\n",
       "      <td>4.0</td>\n",
       "      <td>1.0</td>\n",
       "      <td>322.0</td>\n",
       "      <td>NaN</td>\n",
       "      <td>NaN</td>\n",
       "    </tr>\n",
       "    <tr>\n",
       "      <th>4</th>\n",
       "      <td>1003689</td>\n",
       "      <td>Entire Apt: Spacious Studio/Loft by central park</td>\n",
       "      <td>92037596077</td>\n",
       "      <td>verified</td>\n",
       "      <td>Lyndon</td>\n",
       "      <td>Manhattan</td>\n",
       "      <td>East Harlem</td>\n",
       "      <td>40.79851</td>\n",
       "      <td>-73.94399</td>\n",
       "      <td>United States</td>\n",
       "      <td>...</td>\n",
       "      <td>$41</td>\n",
       "      <td>10.0</td>\n",
       "      <td>9.0</td>\n",
       "      <td>11/19/2018</td>\n",
       "      <td>0.10</td>\n",
       "      <td>3.0</td>\n",
       "      <td>1.0</td>\n",
       "      <td>289.0</td>\n",
       "      <td>Please no smoking in the house, porch or on th...</td>\n",
       "      <td>NaN</td>\n",
       "    </tr>\n",
       "  </tbody>\n",
       "</table>\n",
       "<p>5 rows × 26 columns</p>\n",
       "</div>"
      ],
      "text/plain": [
       "        id                                              NAME      host id  \\\n",
       "0  1001254                Clean & quiet apt home by the park  80014485718   \n",
       "1  1002102                             Skylit Midtown Castle  52335172823   \n",
       "2  1002403               THE VILLAGE OF HARLEM....NEW YORK !  78829239556   \n",
       "3  1002755                                               NaN  85098326012   \n",
       "4  1003689  Entire Apt: Spacious Studio/Loft by central park  92037596077   \n",
       "\n",
       "  host_identity_verified host name neighbourhood group neighbourhood  \\\n",
       "0            unconfirmed  Madaline            Brooklyn    Kensington   \n",
       "1               verified     Jenna           Manhattan       Midtown   \n",
       "2                    NaN     Elise           Manhattan        Harlem   \n",
       "3            unconfirmed     Garry            Brooklyn  Clinton Hill   \n",
       "4               verified    Lyndon           Manhattan   East Harlem   \n",
       "\n",
       "        lat      long        country  ... service fee minimum nights  \\\n",
       "0  40.64749 -73.97237  United States  ...       $193            10.0   \n",
       "1  40.75362 -73.98377  United States  ...        $28            30.0   \n",
       "2  40.80902 -73.94190  United States  ...       $124             3.0   \n",
       "3  40.68514 -73.95976  United States  ...        $74            30.0   \n",
       "4  40.79851 -73.94399  United States  ...        $41            10.0   \n",
       "\n",
       "  number of reviews last review  reviews per month review rate number  \\\n",
       "0               9.0  10/19/2021               0.21                4.0   \n",
       "1              45.0   5/21/2022               0.38                4.0   \n",
       "2               0.0         NaN                NaN                5.0   \n",
       "3             270.0    7/5/2019               4.64                4.0   \n",
       "4               9.0  11/19/2018               0.10                3.0   \n",
       "\n",
       "  calculated host listings count  availability 365  \\\n",
       "0                            6.0             286.0   \n",
       "1                            2.0             228.0   \n",
       "2                            1.0             352.0   \n",
       "3                            1.0             322.0   \n",
       "4                            1.0             289.0   \n",
       "\n",
       "                                         house_rules license  \n",
       "0  Clean up and treat the home the way you'd like...     NaN  \n",
       "1  Pet friendly but please confirm with me if the...     NaN  \n",
       "2  I encourage you to use my kitchen, cooking and...     NaN  \n",
       "3                                                NaN     NaN  \n",
       "4  Please no smoking in the house, porch or on th...     NaN  \n",
       "\n",
       "[5 rows x 26 columns]"
      ]
     },
     "execution_count": 4,
     "metadata": {},
     "output_type": "execute_result"
    }
   ],
   "source": [
    "## Display the first 5 rows\n",
    "data.head()"
   ]
  },
  {
   "cell_type": "code",
   "execution_count": 5,
   "id": "0e61d56e",
   "metadata": {},
   "outputs": [
    {
     "name": "stdout",
     "output_type": "stream",
     "text": [
      "<class 'pandas.core.frame.DataFrame'>\n",
      "RangeIndex: 102599 entries, 0 to 102598\n",
      "Data columns (total 26 columns):\n",
      " #   Column                          Non-Null Count   Dtype  \n",
      "---  ------                          --------------   -----  \n",
      " 0   id                              102599 non-null  int64  \n",
      " 1   NAME                            102349 non-null  object \n",
      " 2   host id                         102599 non-null  int64  \n",
      " 3   host_identity_verified          102310 non-null  object \n",
      " 4   host name                       102193 non-null  object \n",
      " 5   neighbourhood group             102570 non-null  object \n",
      " 6   neighbourhood                   102583 non-null  object \n",
      " 7   lat                             102591 non-null  float64\n",
      " 8   long                            102591 non-null  float64\n",
      " 9   country                         102067 non-null  object \n",
      " 10  country code                    102468 non-null  object \n",
      " 11  instant_bookable                102494 non-null  object \n",
      " 12  cancellation_policy             102523 non-null  object \n",
      " 13  room type                       102599 non-null  object \n",
      " 14  Construction year               102385 non-null  float64\n",
      " 15  price                           102352 non-null  object \n",
      " 16  service fee                     102326 non-null  object \n",
      " 17  minimum nights                  102190 non-null  float64\n",
      " 18  number of reviews               102416 non-null  float64\n",
      " 19  last review                     86706 non-null   object \n",
      " 20  reviews per month               86720 non-null   float64\n",
      " 21  review rate number              102273 non-null  float64\n",
      " 22  calculated host listings count  102280 non-null  float64\n",
      " 23  availability 365                102151 non-null  float64\n",
      " 24  house_rules                     50468 non-null   object \n",
      " 25  license                         2 non-null       object \n",
      "dtypes: float64(9), int64(2), object(15)\n",
      "memory usage: 20.4+ MB\n"
     ]
    }
   ],
   "source": [
    "## Display the data types\n",
    "data.info()"
   ]
  },
  {
   "cell_type": "markdown",
   "id": "0b2e801f",
   "metadata": {},
   "source": [
    "## Task 2a: Data Cleaning (Any Tool)\n",
    "\n",
    "1. Drop some of the unwanted columns. These include `host id`, `id`, `country` and `country code` from the dataset. \n",
    "2. State the reason for not including these columns for your Data Analytics.\n",
    "\n",
    "If using Python for this exercise, please include the code in the cells below. If using any other tool, please include screenshoots before and after the elimination of the columns."
   ]
  },
  {
   "cell_type": "code",
   "execution_count": 6,
   "id": "3de0751f",
   "metadata": {},
   "outputs": [],
   "source": [
    "data = data.drop([\"host id\",\"id\",\"country\",\"country code\"],axis=1)"
   ]
  },
  {
   "cell_type": "code",
   "execution_count": 7,
   "id": "01bd2922-a607-4df9-a73e-204525d4d8a4",
   "metadata": {},
   "outputs": [
    {
     "name": "stdout",
     "output_type": "stream",
     "text": [
      "<class 'pandas.core.frame.DataFrame'>\n",
      "RangeIndex: 102599 entries, 0 to 102598\n",
      "Data columns (total 22 columns):\n",
      " #   Column                          Non-Null Count   Dtype  \n",
      "---  ------                          --------------   -----  \n",
      " 0   NAME                            102349 non-null  object \n",
      " 1   host_identity_verified          102310 non-null  object \n",
      " 2   host name                       102193 non-null  object \n",
      " 3   neighbourhood group             102570 non-null  object \n",
      " 4   neighbourhood                   102583 non-null  object \n",
      " 5   lat                             102591 non-null  float64\n",
      " 6   long                            102591 non-null  float64\n",
      " 7   instant_bookable                102494 non-null  object \n",
      " 8   cancellation_policy             102523 non-null  object \n",
      " 9   room type                       102599 non-null  object \n",
      " 10  Construction year               102385 non-null  float64\n",
      " 11  price                           102352 non-null  object \n",
      " 12  service fee                     102326 non-null  object \n",
      " 13  minimum nights                  102190 non-null  float64\n",
      " 14  number of reviews               102416 non-null  float64\n",
      " 15  last review                     86706 non-null   object \n",
      " 16  reviews per month               86720 non-null   float64\n",
      " 17  review rate number              102273 non-null  float64\n",
      " 18  calculated host listings count  102280 non-null  float64\n",
      " 19  availability 365                102151 non-null  float64\n",
      " 20  house_rules                     50468 non-null   object \n",
      " 21  license                         2 non-null       object \n",
      "dtypes: float64(9), object(13)\n",
      "memory usage: 17.2+ MB\n"
     ]
    }
   ],
   "source": [
    "# After deleting 4 columns , now there are 22 columns\n",
    "data.info()"
   ]
  },
  {
   "cell_type": "markdown",
   "id": "3677dcbb",
   "metadata": {},
   "source": [
    "Reason for deleting the columns are :\n",
    "\n",
    "1. Host id: This column is not necessary for our analysis, as we are not interested in the specific hosts who have listings on Airbnb. We can get the same information from the host name column.\n",
    "2. Id: This column is the primary key for the dataset, and it is not necessary for our analysis. \n",
    "3. Country: This column is not necessary for our analysis, as we are only interested in the listings in the United States. We can filter the dataset to only include listings in the United States.\n",
    "4. Country code: This column is not necessary for our analysis, as we are only interested in the listings in the United States. We can filter the dataset to only include listings in the United States.\n"
   ]
  },
  {
   "cell_type": "markdown",
   "id": "2071cce7",
   "metadata": {},
   "source": [
    "## Task 2b: Data Cleaning (Python)\n",
    "\n",
    "- Check for missing values in the dataframe and display the count in ascending order. **If the values are missing, impute the values as per the datatype of the columns.**\n",
    "- Check whether there are any duplicate values in the dataframe and, if present, remove them.\n",
    "- Display the total number of records in the dataframe before and after removing the duplicates."
   ]
  },
  {
   "cell_type": "code",
   "execution_count": 8,
   "id": "e78c0409",
   "metadata": {
    "scrolled": true
   },
   "outputs": [
    {
     "name": "stdout",
     "output_type": "stream",
     "text": [
      "license                           102597\n",
      "house_rules                        52131\n",
      "last review                        15893\n",
      "reviews per month                  15879\n",
      "availability 365                     448\n",
      "minimum nights                       409\n",
      "host name                            406\n",
      "review rate number                   326\n",
      "calculated host listings count       319\n",
      "host_identity_verified               289\n",
      "service fee                          273\n",
      "NAME                                 250\n",
      "price                                247\n",
      "Construction year                    214\n",
      "number of reviews                    183\n",
      "instant_bookable                     105\n",
      "cancellation_policy                   76\n",
      "neighbourhood group                   29\n",
      "neighbourhood                         16\n",
      "long                                   8\n",
      "lat                                    8\n",
      "room type                              0\n",
      "dtype: int64\n"
     ]
    }
   ],
   "source": [
    "## Check for missing values in the dataframe and display the count in ascending order.\n",
    "\n",
    "missing_values_count=data.isnull().sum()\n",
    "print(missing_values_count.sort_values(ascending=False))"
   ]
  },
  {
   "cell_type": "code",
   "execution_count": 9,
   "id": "7fd8c582",
   "metadata": {},
   "outputs": [],
   "source": [
    "# Impute missing values based on data type\n",
    "\n",
    "for column in data.columns:\n",
    "    if data[column].dtype == 'object':\n",
    "        data[column] = data[column].fillna('other')  # Replace missing values with 'other' for object columns\n",
    "    else:\n",
    "        data[column] = data[column].fillna(data[column].mean())  # Replace missing values with the mean for numeric columns\n"
   ]
  },
  {
   "cell_type": "code",
   "execution_count": 10,
   "id": "77d4f6e0",
   "metadata": {},
   "outputs": [
    {
     "name": "stdout",
     "output_type": "stream",
     "text": [
      "NAME                              0\n",
      "host_identity_verified            0\n",
      "house_rules                       0\n",
      "availability 365                  0\n",
      "calculated host listings count    0\n",
      "review rate number                0\n",
      "reviews per month                 0\n",
      "last review                       0\n",
      "number of reviews                 0\n",
      "minimum nights                    0\n",
      "service fee                       0\n",
      "price                             0\n",
      "Construction year                 0\n",
      "room type                         0\n",
      "cancellation_policy               0\n",
      "instant_bookable                  0\n",
      "long                              0\n",
      "lat                               0\n",
      "neighbourhood                     0\n",
      "neighbourhood group               0\n",
      "host name                         0\n",
      "license                           0\n",
      "dtype: int64\n"
     ]
    }
   ],
   "source": [
    "# Verifying that now there are no missing values\n",
    "\n",
    "missing_values_count=data.isnull().sum()\n",
    "print(missing_values_count.sort_values(ascending=False))"
   ]
  },
  {
   "cell_type": "code",
   "execution_count": 11,
   "id": "7a691fba",
   "metadata": {},
   "outputs": [
    {
     "name": "stdout",
     "output_type": "stream",
     "text": [
      "3436\n"
     ]
    }
   ],
   "source": [
    "## Check whether there are any duplicate values in the dataframe . In Dataset \n",
    "duplicate_rows = data.duplicated()\n",
    "print(duplicate_rows.sum())\n"
   ]
  },
  {
   "cell_type": "code",
   "execution_count": 12,
   "id": "06832564",
   "metadata": {},
   "outputs": [
    {
     "name": "stdout",
     "output_type": "stream",
     "text": [
      "Duplicate rows found and now deleted\n"
     ]
    }
   ],
   "source": [
    "# To remove duplicate rows and  if they are present remove them.\n",
    "\n",
    "\n",
    "if duplicate_rows.any():\n",
    "    print(\"Duplicate rows found and now deleted\")\n",
    "    # Remove duplicate rows\n",
    "    data = data.drop_duplicates()\n",
    "else:\n",
    "    print(\"No duplicate rows found.\")\n"
   ]
  },
  {
   "cell_type": "code",
   "execution_count": 13,
   "id": "c3b99686",
   "metadata": {},
   "outputs": [
    {
     "name": "stdout",
     "output_type": "stream",
     "text": [
      "0\n"
     ]
    }
   ],
   "source": [
    "# Cross check whether the duplicate rows are deleted or not\n",
    "duplicate_rows = data.duplicated()\n",
    "print(duplicate_rows.sum())\n"
   ]
  },
  {
   "cell_type": "code",
   "execution_count": 14,
   "id": "13dfe607",
   "metadata": {},
   "outputs": [
    {
     "data": {
      "text/plain": [
       "(99163, 22)"
      ]
     },
     "execution_count": 14,
     "metadata": {},
     "output_type": "execute_result"
    }
   ],
   "source": [
    "## Display the total number of records in the dataframe after removing the duplicates.(Earlier there were 102599 (102599-3436=99163) )\n",
    "data.shape\n"
   ]
  },
  {
   "cell_type": "markdown",
   "id": "1bf8912c",
   "metadata": {},
   "source": [
    "## Task 3: Data Transformation (Any Tool)\n",
    "\n",
    "\n",
    "- Rename the column `availability 365` to `days_booked`\n",
    "- Convert all column names to lowercase and replace the spaces in the column names with an underscore \"_\".\n",
    "- Remove the dollar sign and comma from the columns `price` and `service_fee`. If necessary, convert these two columns to the appropriate data type.\n",
    "\n",
    "If using Python for this exercise, please include the code in the cells below. If using any other tool, please include screenshoots of your work."
   ]
  },
  {
   "cell_type": "code",
   "execution_count": 15,
   "id": "3adf9b6b",
   "metadata": {},
   "outputs": [],
   "source": [
    "## Rename the column.\n",
    "data.rename(columns={\"availability 365\":\"days_booked\"},inplace=True)"
   ]
  },
  {
   "cell_type": "markdown",
   "id": "de9f5ee0",
   "metadata": {},
   "source": [
    "#### Convert all column names to lowercase\n",
    "\n",
    "#####  We can perform the task in two steps"
   ]
  },
  {
   "cell_type": "code",
   "execution_count": 16,
   "id": "c7197b9b",
   "metadata": {},
   "outputs": [
    {
     "name": "stdout",
     "output_type": "stream",
     "text": [
      "['NAME', 'Construction year']\n"
     ]
    }
   ],
   "source": [
    "\n",
    "\n",
    "# Step 1: Look for coulmns with uppercase letters\n",
    "\n",
    "\n",
    "\n",
    "columns_with_uppercase = [col for col in data.columns if any(letter.isupper() for letter in col)]\n",
    "\n",
    "print(columns_with_uppercase)\n"
   ]
  },
  {
   "cell_type": "code",
   "execution_count": 17,
   "id": "30c15477",
   "metadata": {},
   "outputs": [],
   "source": [
    "# Step 2: Replace with lowercase\n",
    "data.rename(columns={\"NAME\":\"name\"},inplace=True)\n",
    "data.rename(columns={\"Construction year\":\"construction year\"},inplace=True)"
   ]
  },
  {
   "cell_type": "markdown",
   "id": "03b36b74",
   "metadata": {},
   "source": [
    "### Replace the spaces with an underscore \"_\"\n",
    "\n",
    "\n",
    "######  We can perform the task in two steps"
   ]
  },
  {
   "cell_type": "code",
   "execution_count": 18,
   "id": "9e968504",
   "metadata": {},
   "outputs": [
    {
     "name": "stdout",
     "output_type": "stream",
     "text": [
      "['host name', 'neighbourhood group', 'room type', 'construction year', 'service fee', 'minimum nights', 'number of reviews', 'last review', 'reviews per month', 'review rate number', 'calculated host listings count']\n"
     ]
    }
   ],
   "source": [
    "\n",
    "\n",
    "# Step 1: Look for coulmns with space in them\n",
    "\n",
    "\n",
    "columns_with_spaces = [col for col in data.columns if ' ' in col]\n",
    "\n",
    "print(columns_with_spaces)\n"
   ]
  },
  {
   "cell_type": "code",
   "execution_count": 19,
   "id": "39dec4a5",
   "metadata": {},
   "outputs": [
    {
     "name": "stdout",
     "output_type": "stream",
     "text": [
      "Index(['name', 'host_identity_verified', 'host_name', 'neighbourhood_group',\n",
      "       'neighbourhood', 'lat', 'long', 'instant_bookable',\n",
      "       'cancellation_policy', 'room_type', 'construction_year', 'price',\n",
      "       'service_fee', 'minimum_nights', 'number_of_reviews', 'last_review',\n",
      "       'reviews_per_month', 'review_rate_number',\n",
      "       'calculated_host_listings_count', 'days_booked', 'house_rules',\n",
      "       'license'],\n",
      "      dtype='object')\n"
     ]
    }
   ],
   "source": [
    "# Step 2: Replace the space with '_'\n",
    "\n",
    "\n",
    "\n",
    "for column in data.columns:\n",
    "    new_column = column.replace(\" \", \"_\")  # Replace spaces with underscores\n",
    "    data.rename(columns={column: new_column}, inplace=True)\n",
    "\n",
    "print(data.columns)\n"
   ]
  },
  {
   "cell_type": "code",
   "execution_count": 20,
   "id": "7cbb60d5",
   "metadata": {},
   "outputs": [
    {
     "name": "stdout",
     "output_type": "stream",
     "text": [
      "0           $966 \n",
      "1           $142 \n",
      "2           $620 \n",
      "3           $368 \n",
      "4           $204 \n",
      "           ...   \n",
      "102053      $696 \n",
      "102054      $909 \n",
      "102055      $387 \n",
      "102056      $848 \n",
      "102057    $1,128 \n",
      "Name: price, Length: 99163, dtype: object\n",
      "0         $193 \n",
      "1          $28 \n",
      "2         $124 \n",
      "3          $74 \n",
      "4          $41 \n",
      "          ...  \n",
      "102053    other\n",
      "102054    other\n",
      "102055    other\n",
      "102056    other\n",
      "102057    other\n",
      "Name: service_fee, Length: 99163, dtype: object\n"
     ]
    }
   ],
   "source": [
    "# First check $ and comma\n",
    "print(data['price'])\n",
    "print(data['service_fee'])"
   ]
  },
  {
   "cell_type": "code",
   "execution_count": 21,
   "id": "38430057",
   "metadata": {},
   "outputs": [
    {
     "name": "stdout",
     "output_type": "stream",
     "text": [
      "0          966 \n",
      "1          142 \n",
      "2          620 \n",
      "3          368 \n",
      "4          204 \n",
      "          ...  \n",
      "102053     696 \n",
      "102054     909 \n",
      "102055     387 \n",
      "102056     848 \n",
      "102057    1128 \n",
      "Name: price, Length: 99163, dtype: object\n",
      "0          193 \n",
      "1           28 \n",
      "2          124 \n",
      "3           74 \n",
      "4           41 \n",
      "          ...  \n",
      "102053    other\n",
      "102054    other\n",
      "102055    other\n",
      "102056    other\n",
      "102057    other\n",
      "Name: service_fee, Length: 99163, dtype: object\n"
     ]
    }
   ],
   "source": [
    "## Remove the dollar sign and comma from the columns: price and service_fee. \n",
    "\n",
    "\n",
    "data['price'] = data['price'].str.replace('$', '').str.replace(',', '')\n",
    "data['service_fee'] = data['service_fee'].str.replace('$', '').str.replace(',', '')\n",
    "\n",
    "print(data['price'])\n",
    "print(data['service_fee'])\n"
   ]
  },
  {
   "cell_type": "code",
   "execution_count": 22,
   "id": "6d3c745f",
   "metadata": {},
   "outputs": [
    {
     "name": "stdout",
     "output_type": "stream",
     "text": [
      "name                               object\n",
      "host_identity_verified             object\n",
      "host_name                          object\n",
      "neighbourhood_group                object\n",
      "neighbourhood                      object\n",
      "lat                               float64\n",
      "long                              float64\n",
      "instant_bookable                   object\n",
      "cancellation_policy                object\n",
      "room_type                          object\n",
      "construction_year                 float64\n",
      "price                             float64\n",
      "service_fee                       float64\n",
      "minimum_nights                    float64\n",
      "number_of_reviews                 float64\n",
      "last_review                        object\n",
      "reviews_per_month                 float64\n",
      "review_rate_number                float64\n",
      "calculated_host_listings_count    float64\n",
      "days_booked                       float64\n",
      "house_rules                        object\n",
      "license                            object\n",
      "dtype: object\n"
     ]
    }
   ],
   "source": [
    "\n",
    "\n",
    "# Replace non-numeric values in 'price' column with NaN\n",
    "data['price'] = pd.to_numeric(data['price'], errors='coerce')\n",
    "\n",
    "# Replace non-numeric values in 'service_fee' column with NaN\n",
    "data['service_fee'] = pd.to_numeric(data['service_fee'], errors='coerce')\n",
    "\n",
    "# Convert the columns to float\n",
    "data['price'] = data['price'].astype(float)\n",
    "data['service_fee'] = data['service_fee'].astype(float)\n",
    "\n",
    "# Print the updated data types\n",
    "print(data.dtypes)\n"
   ]
  },
  {
   "cell_type": "markdown",
   "id": "f5fdef8b",
   "metadata": {},
   "source": [
    "### Task 4: Exploratory Data Analysis (Any Tool)\n",
    "\n",
    "- List the count of various room types avaliable in the dataset.\n",
    "- Which room type has the most strict cancellation policy?\n",
    "- List the average price per neighborhood group, and highlight the most expensive neighborhood to rent from.\n",
    "\n",
    "If using Python for this exercise, please include the code in the cells below. If using any other tool, please include screenshoots of your work."
   ]
  },
  {
   "cell_type": "code",
   "execution_count": 23,
   "id": "c171e196",
   "metadata": {},
   "outputs": [
    {
     "name": "stdout",
     "output_type": "stream",
     "text": [
      "Entire home/apt    52003\n",
      "Private room       44895\n",
      "Shared room         2150\n",
      "Hotel room           115\n",
      "Name: room_type, dtype: int64\n"
     ]
    }
   ],
   "source": [
    "## List the count of various room types avaliable with Airbnb\n",
    "room_types_count=data['room_type'].value_counts()\n",
    "\n",
    "print(room_types_count)                         "
   ]
  },
  {
   "cell_type": "markdown",
   "id": "2b20f09f",
   "metadata": {},
   "source": [
    "#### Which room type adheres to more strict cancellation policy"
   ]
  },
  {
   "cell_type": "code",
   "execution_count": 24,
   "id": "7f651811",
   "metadata": {},
   "outputs": [
    {
     "data": {
      "text/plain": [
       "array(['strict', 'moderate', 'flexible', 'other'], dtype=object)"
      ]
     },
     "execution_count": 24,
     "metadata": {},
     "output_type": "execute_result"
    }
   ],
   "source": [
    "\n",
    "#step 1: Look for uique values in the column cancellation Policy\n",
    "data.cancellation_policy.unique()"
   ]
  },
  {
   "cell_type": "code",
   "execution_count": 25,
   "id": "f56ae5d3",
   "metadata": {},
   "outputs": [
    {
     "name": "stdout",
     "output_type": "stream",
     "text": [
      "Entire home/apt    17241\n",
      "Private room       14937\n",
      "Shared room          718\n",
      "Hotel room            34\n",
      "Name: room_type, dtype: int64\n"
     ]
    }
   ],
   "source": [
    "# Step 2; room type adheres to more strict cancellation policy\n",
    "\n",
    "# Manually I can see that Entire home/apt has strict cancellation policy\n",
    "\n",
    "\n",
    "strict_room_cancel_policy = data[data['cancellation_policy'] == 'strict']['room_type'].value_counts()\n",
    "print(strict_room_cancel_policy)\n"
   ]
  },
  {
   "cell_type": "code",
   "execution_count": 26,
   "id": "73839e60",
   "metadata": {},
   "outputs": [
    {
     "name": "stdout",
     "output_type": "stream",
     "text": [
      "The room type that adheres to the strictest cancellation policy is: Entire home/apt\n"
     ]
    }
   ],
   "source": [
    "# Use idxmax\n",
    "\n",
    "strict_cancel_counts = data[data['cancellation_policy'] == 'strict']['room_type'].value_counts()\n",
    "most_strict_room_type = strict_cancel_counts.idxmax()\n",
    "print(\"The room type that adheres to the strictest cancellation policy is:\", most_strict_room_type)\n"
   ]
  },
  {
   "cell_type": "markdown",
   "id": "932043e4",
   "metadata": {},
   "source": [
    "#### List the prices by neighborhood group and also mention which is the most expensive neighborhood group for rentals"
   ]
  },
  {
   "cell_type": "code",
   "execution_count": 27,
   "id": "d01c1ac4",
   "metadata": {},
   "outputs": [
    {
     "name": "stdout",
     "output_type": "stream",
     "text": [
      "neighbourhood_group\n",
      "Bronx            626.614412\n",
      "Brooklyn         626.428192\n",
      "Manhattan        622.683781\n",
      "Queens           629.712735\n",
      "Staten Island    626.431843\n",
      "brookln          580.000000\n",
      "manhatan         460.000000\n",
      "other            658.357143\n",
      "Name: price, dtype: float64\n"
     ]
    }
   ],
   "source": [
    "\n",
    "\n",
    "# Step 1: Listing \n",
    "\n",
    "neighborhood_price=data.groupby('neighbourhood_group')['price'].mean()\n",
    "print(neighborhood_price)\n",
    "                    "
   ]
  },
  {
   "cell_type": "markdown",
   "id": "ca3ed1e6",
   "metadata": {},
   "source": [
    "## Task 5a: Data Visualization (Any Tool)\n",
    "\n",
    "- Create a horizontal bar chart to display the top 10 most expensive neighborhoods in the dataset.\n",
    "    - Create another chart with the 10 cheapest neighborhoods in the dataset.\n",
    "- Create a box and whisker chart that showcases the price distribution of all listings split by room type.\n",
    "\n",
    "If using Python for this exercise, please include the code in the cells below. If using any other tool, please include screenshoots of your work."
   ]
  },
  {
   "cell_type": "code",
   "execution_count": 28,
   "id": "4e5a6b74",
   "metadata": {},
   "outputs": [
    {
     "data": {
      "image/png": "[encoded data removed]",
      "text/plain": [
       "<Figure size 900x700 with 1 Axes>"
      ]
     },
     "metadata": {},
     "output_type": "display_data"
    }
   ],
   "source": [
    "# Create a horizontal bar chart to display the top 10 most expensive neighborhoods in the dataset\n",
    "\n",
    "\n",
    "import matplotlib.pyplot as plt\n",
    "\n",
    "# Grouping data and calculating mean prices\n",
    "prices_by_neighborhood = data.groupby('neighbourhood')['price'].mean()\n",
    "prices_by_neighborhood_sorted = prices_by_neighborhood.sort_values().head(9)\n",
    "\n",
    "\n",
    "# Increase the figure size\n",
    "plt.figure(figsize=(9, 7))\n",
    "\n",
    "\n",
    "# Creating the bar chart\n",
    "plt.barh(prices_by_neighborhood_sorted.index, prices_by_neighborhood_sorted.values)\n",
    "plt.xlabel('Price')\n",
    "plt.ylabel('Neighborhood Group')\n",
    "plt.title('Average Prices by Neighborhood Group')\n",
    "\n",
    "\n",
    "# Annotating the values on the chart\n",
    "for i, v in enumerate(prices_by_neighborhood_sorted.values):\n",
    "    plt.text(v, i, str(round(v, 2)), color='black', va='center')\n",
    "    \n",
    "    \n",
    "# Displaying the chart\n",
    "plt.show()\n"
   ]
  },
  {
   "cell_type": "code",
   "execution_count": 29,
   "id": "a4c17b11",
   "metadata": {},
   "outputs": [
    {
     "data": {
      "image/png": "[encoded data removed]",
      "text/plain": [
       "<Figure size 640x480 with 1 Axes>"
      ]
     },
     "metadata": {},
     "output_type": "display_data"
    }
   ],
   "source": [
    "# Create another chart with the 10 cheapest neighborhoods in the dataset\n",
    "\n",
    "\n",
    "import matplotlib.pyplot as plt\n",
    "\n",
    "# Grouping data and calculating mean prices\n",
    "prices_by_neighborhood = data.groupby('neighbourhood')['price'].mean()\n",
    "prices_by_neighborhood_sorted = prices_by_neighborhood.sort_values(ascending=False).head(9)\n",
    "\n",
    "# Creating the bar chart\n",
    "plt.barh(prices_by_neighborhood_sorted.index, prices_by_neighborhood_sorted.values)\n",
    "plt.xlabel('Price')\n",
    "plt.ylabel('Neighborhood Group')\n",
    "plt.title('Average Prices by Neighborhood Group')\n",
    "\n",
    "\n",
    "\n",
    "# Annotating the values on the chart\n",
    "for i, v in enumerate(prices_by_neighborhood_sorted.values):\n",
    "    plt.text(v, i, str(round(v, 2)), color='black', va='center')\n",
    "    \n",
    "    \n",
    "# Displaying the chart\n",
    "plt.show()\n"
   ]
  },
  {
   "cell_type": "code",
   "execution_count": 30,
   "id": "2c28b705",
   "metadata": {},
   "outputs": [],
   "source": [
    "# Create a box and whisker chart that showcases the price distribution of all listings split by room type."
   ]
  },
  {
   "cell_type": "code",
   "execution_count": 31,
   "id": "a34e4931",
   "metadata": {},
   "outputs": [
    {
     "name": "stdout",
     "output_type": "stream",
     "text": [
      "room_type\n",
      "Entire home/apt    [142.0, 368.0, 204.0, 577.0, 319.0, 606.0, 578...\n",
      "Hotel room         [594.0, 247.0, 624.0, 286.0, 938.0, 663.0, 490...\n",
      "Private room       [966.0, 620.0, 71.0, 1060.0, 1018.0, 291.0, 71...\n",
      "Shared room        [1010.0, 586.0, 599.0, 67.0, 910.0, 644.0, 712...\n",
      "Name: price, dtype: object\n"
     ]
    }
   ],
   "source": [
    "# Grouping data by room type and extracting the price column\n",
    "room_prices = data.groupby('room_type')['price'].apply(list)\n",
    "print(room_prices)"
   ]
  },
  {
   "cell_type": "code",
   "execution_count": 32,
   "id": "52a169e7",
   "metadata": {},
   "outputs": [
    {
     "data": {
      "image/png": "[encoded data removed]",
      "text/plain": [
       "<Figure size 640x480 with 1 Axes>"
      ]
     },
     "metadata": {},
     "output_type": "display_data"
    }
   ],
   "source": [
    "# Extract unique room types from the dataset\n",
    "room_types = data['room_type'].unique()\n",
    "\n",
    "# Create a box plot for each room type\n",
    "sns.boxplot(data=data, x='room_type', y='price', order=room_types)\n",
    "\n",
    "# Set the title and labels\n",
    "plt.title('Price Distribution by Room Type')\n",
    "plt.xlabel('Room Type')\n",
    "plt.ylabel('Price')\n",
    "\n",
    "# Rotate the x-axis labels for better readability\n",
    "plt.xticks(rotation=45)\n",
    "\n",
    "# Display the plot\n",
    "plt.show()"
   ]
  },
  {
   "cell_type": "markdown",
   "id": "9c313303",
   "metadata": {},
   "source": [
    "## Task 5b: Data Visualization (Any Tool)\n",
    "\n",
    "- Create a scatter plot to illustrate the relationshi between the cleaning fee and the room price and write down the kind of correlation, if any, that you see.\n",
    "- Create a line chart to showcase the total amount of listings available per year.\n",
    "\n",
    "If using Python for this exercise, please include the code in the cells below. If using any other tool, please include screenshoots of your work."
   ]
  },
  {
   "cell_type": "code",
   "execution_count": 33,
   "id": "8c9d22b5",
   "metadata": {},
   "outputs": [
    {
     "data": {
      "image/png": "[encoded data removed]",
      "text/plain": [
       "<Figure size 640x480 with 1 Axes>"
      ]
     },
     "metadata": {},
     "output_type": "display_data"
    }
   ],
   "source": [
    "#Create a scatter plot to illustrate the relationshi between the cleaning fee /\n",
    "#and the room price and write down the kind of correlation, if any, that you see\n",
    "\n",
    "# Create a scatter plot\n",
    "sns.scatterplot(data=data, x='service_fee', y='price')\n",
    "\n",
    "# Set the title and labels\n",
    "plt.title('Scatter Plot')\n",
    "plt.xlabel('Service Fees')\n",
    "plt.ylabel('Room Price')\n",
    "\n",
    "# Display the plot\n",
    "plt.show()\n",
    "\n",
    "\n",
    "\n",
    "\n"
   ]
  },
  {
   "cell_type": "markdown",
   "id": "483be084",
   "metadata": {},
   "source": [
    "A Perfect graph which shows linear correlation between the service fees and price of the room."
   ]
  },
  {
   "cell_type": "code",
   "execution_count": 34,
   "id": "84b4b48d",
   "metadata": {
    "scrolled": false
   },
   "outputs": [
    {
     "name": "stdout",
     "output_type": "stream",
     "text": [
      "[  6.          2.          1.          4.          3.          7.9366054\n",
      "   5.          7.         13.         28.         11.          8.\n",
      "   9.         52.         18.         15.         19.         10.\n",
      "  39.         26.         29.         12.         21.         96.\n",
      "  14.         34.         43.        121.         37.         49.\n",
      "  31.         91.         16.         87.         33.         23.\n",
      "  50.         20.         25.        232.         17.         47.\n",
      " 103.         65.         30.         27.        327.         32.\n",
      "  45.         53.        208.        171.         44.         48.\n",
      " 108.         51.        161.        152.         83.         24.\n",
      "  22.        126.         54.         66.         59.         62.\n",
      " 102.        186.        125.         55.         63.         67.\n",
      "  58.         56.         80.         46.        218.         86.\n",
      " 332.       ]\n"
     ]
    }
   ],
   "source": [
    "print(data['calculated_host_listings_count'].unique())"
   ]
  },
  {
   "cell_type": "code",
   "execution_count": 35,
   "id": "0ce69c98",
   "metadata": {},
   "outputs": [
    {
     "name": "stdout",
     "output_type": "stream",
     "text": [
      "Count of 332: 41\n"
     ]
    }
   ],
   "source": [
    "# Calculate the count of occurrences of 332.\n",
    "count_300 = data[data['calculated_host_listings_count'] == 332.].shape[0]\n",
    "\n",
    "print(\"Count of 332:\", count_300)\n",
    "\n",
    "# We can perform"
   ]
  },
  {
   "cell_type": "code",
   "execution_count": 36,
   "id": "1810ea21",
   "metadata": {
    "scrolled": true
   },
   "outputs": [
    {
     "name": "stdout",
     "output_type": "stream",
     "text": [
      "1.0     61202\n",
      "2.0     13993\n",
      "3.0      6351\n",
      "4.0      3444\n",
      "5.0      1921\n",
      "        ...  \n",
      "86.0       21\n",
      "22.0       20\n",
      "55.0       15\n",
      "46.0        9\n",
      "80.0        7\n",
      "Name: calculated_host_listings_count, Length: 79, dtype: int64\n"
     ]
    }
   ],
   "source": [
    " #Count the occurrences of each value in the column\n",
    "    \n",
    "value_counts = data['calculated_host_listings_count'].value_counts()\n",
    "print(value_counts)"
   ]
  },
  {
   "cell_type": "code",
   "execution_count": 37,
   "id": "0a416330",
   "metadata": {},
   "outputs": [
    {
     "data": {
      "image/png": "[encoded data removed]",
      "text/plain": [
       "<Figure size 640x480 with 1 Axes>"
      ]
     },
     "metadata": {},
     "output_type": "display_data"
    }
   ],
   "source": [
    "# Create a line chart to showcase the total amount of listings (Use calculated host listing count)\n",
    "\n",
    "# LinePLot\n",
    "sns.lineplot(data=data['calculated_host_listings_count'])\n",
    "\n",
    "\n",
    "# Set chart title and axis labels\n",
    "plt.title(\"Line Chart\")\n",
    "plt.xlabel(\"Index\")\n",
    "plt.ylabel(\"Host Listing Count\")\n",
    "\n",
    "# Display the chart\n",
    "plt.show()\n",
    "\n"
   ]
  },
  {
   "cell_type": "markdown",
   "id": "e7fa32bd",
   "metadata": {},
   "source": [
    "What does this line plot tell?\n",
    "As you can see there are 99,163 rows and for each corresponding row a line plot is created. The column 'calculated_host_listings_count' contain unique values like:\n",
    "  [6.   2.   1.   4.   3.  nan   5.   7.  13.  28.  11.   8.   9.  52.\n",
    "  18.  15.  19.  10.  39.  26.  29.  12.  21.  96.  14.  34.  43. 121.\n",
    "  37.  49.  31.  91.  16.  87.  33.  23.  50.  20.  25. 232.  17.  47.\n",
    " 103.  65.  30.  27. 327.  32.  45.  53. 208. 171.  44.  48. 108.  51.\n",
    " 161. 152.  83.  24.  22. 126.  54.  66.  59.  62. 102. 186. 125.  55.\n",
    "  63.  67.  58.  56.  80.  46. 218.  86. 332.]\n",
    "  \n",
    "  1. There are approximately two big maximas. \n",
    "  2. The bottom of the chart shows condensed blue area because there are 61,202 entries in the dataset with host listing count as 1."
   ]
  },
  {
   "cell_type": "markdown",
   "id": "9db2466c",
   "metadata": {},
   "source": [
    "## Task 5c: Data Visualization (Any Tool)\n",
    "\n",
    "- Create a data visualization of your choosing using one of the review columns in isolation or in combination with another column.\n",
    "- Create a visualization to compare at least two different variables between super hosts and regular hosts.\n",
    "\n",
    "If using Python for this exercise, please include the code in the cells below. If using any other tool, please include screenshoots of your work."
   ]
  },
  {
   "cell_type": "code",
   "execution_count": 38,
   "id": "1c5036b3",
   "metadata": {},
   "outputs": [],
   "source": [
    " # Create a data visualization of your choosing using one of the review columns in isolation or in combination with another column.\n"
   ]
  },
  {
   "cell_type": "code",
   "execution_count": 39,
   "id": "9eed50d3",
   "metadata": {},
   "outputs": [
    {
     "name": "stdout",
     "output_type": "stream",
     "text": [
      "<class 'pandas.core.frame.DataFrame'>\n",
      "Int64Index: 99163 entries, 0 to 102057\n",
      "Data columns (total 22 columns):\n",
      " #   Column                          Non-Null Count  Dtype  \n",
      "---  ------                          --------------  -----  \n",
      " 0   name                            99163 non-null  object \n",
      " 1   host_identity_verified          99163 non-null  object \n",
      " 2   host_name                       99163 non-null  object \n",
      " 3   neighbourhood_group             99163 non-null  object \n",
      " 4   neighbourhood                   99163 non-null  object \n",
      " 5   lat                             99163 non-null  float64\n",
      " 6   long                            99163 non-null  float64\n",
      " 7   instant_bookable                99163 non-null  object \n",
      " 8   cancellation_policy             99163 non-null  object \n",
      " 9   room_type                       99163 non-null  object \n",
      " 10  construction_year               99163 non-null  float64\n",
      " 11  price                           98916 non-null  float64\n",
      " 12  service_fee                     98890 non-null  float64\n",
      " 13  minimum_nights                  99163 non-null  float64\n",
      " 14  number_of_reviews               99163 non-null  float64\n",
      " 15  last_review                     99163 non-null  object \n",
      " 16  reviews_per_month               99163 non-null  float64\n",
      " 17  review_rate_number              99163 non-null  float64\n",
      " 18  calculated_host_listings_count  99163 non-null  float64\n",
      " 19  days_booked                     99163 non-null  float64\n",
      " 20  house_rules                     99163 non-null  object \n",
      " 21  license                         99163 non-null  object \n",
      "dtypes: float64(11), object(11)\n",
      "memory usage: 17.4+ MB\n"
     ]
    }
   ],
   "source": [
    "data.info()"
   ]
  },
  {
   "cell_type": "markdown",
   "id": "81f6cd5c",
   "metadata": {},
   "source": [
    "If I look at data I think that there might be some relation between the two columns \"number_of_reviews\" and \"room_type\". It might be chance that people are happy with particular room type and give more reviews on it. Let's see"
   ]
  },
  {
   "cell_type": "code",
   "execution_count": 40,
   "id": "6cd7bdd4",
   "metadata": {},
   "outputs": [
    {
     "name": "stdout",
     "output_type": "stream",
     "text": [
      "room_type\n",
      "Entire home/apt    1.428417e+06\n",
      "Private room       1.251390e+06\n",
      "Shared room        4.347800e+04\n",
      "Hotel room         9.669000e+03\n",
      "Name: number_of_reviews, dtype: float64\n"
     ]
    }
   ],
   "source": [
    "# Analyse the data and show the total number of reviews available per room type.\n",
    "\n",
    "review_per_roomtype=data.groupby('room_type')['number_of_reviews'].sum()\n",
    "\n",
    "review_per_roomtype_sorted = review_per_roomtype.sort_values(ascending=False)\n",
    "\n",
    "print(review_per_roomtype_sorted)"
   ]
  },
  {
   "cell_type": "code",
   "execution_count": 41,
   "id": "77e5e0ac",
   "metadata": {},
   "outputs": [
    {
     "data": {
      "image/png": "[encoded data removed]",
      "text/plain": [
       "<Figure size 640x480 with 1 Axes>"
      ]
     },
     "metadata": {},
     "output_type": "display_data"
    }
   ],
   "source": [
    "\n",
    "# Create a bar plot for each room type\n",
    "sns.barplot(data=data, x=review_per_roomtype_sorted.index, y=review_per_roomtype_sorted.values)\n",
    "\n",
    "# Set the title and labels\n",
    "plt.title('Number of Reviews by Room Type')\n",
    "plt.xlabel('Room Type')\n",
    "plt.ylabel('Number of Reviews')\n",
    "\n",
    "# Rotate the x-axis labels for better readability\n",
    "plt.xticks(rotation=45)\n",
    "\n",
    "# Display the plot\n",
    "plt.show()\n"
   ]
  },
  {
   "cell_type": "markdown",
   "id": "ab7ff47d",
   "metadata": {},
   "source": [
    "1. It has been found that there are maximum reviews are for Entire home/apt. That means people prefer to book whole apartment rather than staying in hotel room( Which is the least preferred choice). As from the graph, the two famous choice of people are entire room and private. That means they have priority to their privacy)\n",
    "2. The other least preferable choices are Shared Room and Hotel Room."
   ]
  },
  {
   "cell_type": "code",
   "execution_count": 42,
   "id": "48c64ab7",
   "metadata": {},
   "outputs": [],
   "source": [
    "# Create a visualization to compare at least two different variables between host_identity_verified "
   ]
  },
  {
   "cell_type": "code",
   "execution_count": 43,
   "id": "bdbc8398",
   "metadata": {},
   "outputs": [
    {
     "data": {
      "text/plain": [
       "array(['unconfirmed', 'verified', 'other'], dtype=object)"
      ]
     },
     "execution_count": 43,
     "metadata": {},
     "output_type": "execute_result"
    }
   ],
   "source": [
    "data.host_identity_verified.unique()"
   ]
  },
  {
   "cell_type": "code",
   "execution_count": 44,
   "id": "d4c2f40d",
   "metadata": {},
   "outputs": [],
   "source": [
    "\n",
    "# Replace NaN values with 'other' in the 'host_identity_verified' column\n",
    "data['host_identity_verified'] = data['host_identity_verified'].fillna('other')\n",
    "\n",
    "# Print the updated column to verify the changes\n",
    "#print(data['host_identity_verified'])\n"
   ]
  },
  {
   "cell_type": "code",
   "execution_count": 45,
   "id": "56f11982",
   "metadata": {},
   "outputs": [
    {
     "data": {
      "text/plain": [
       "array(['unconfirmed', 'verified', 'other'], dtype=object)"
      ]
     },
     "execution_count": 45,
     "metadata": {},
     "output_type": "execute_result"
    }
   ],
   "source": [
    "data.host_identity_verified.unique()"
   ]
  },
  {
   "cell_type": "code",
   "execution_count": 46,
   "id": "26d256b1",
   "metadata": {},
   "outputs": [
    {
     "name": "stdout",
     "output_type": "stream",
     "text": [
      "<class 'pandas.core.frame.DataFrame'>\n",
      "Int64Index: 99163 entries, 0 to 102057\n",
      "Data columns (total 22 columns):\n",
      " #   Column                          Non-Null Count  Dtype  \n",
      "---  ------                          --------------  -----  \n",
      " 0   name                            99163 non-null  object \n",
      " 1   host_identity_verified          99163 non-null  object \n",
      " 2   host_name                       99163 non-null  object \n",
      " 3   neighbourhood_group             99163 non-null  object \n",
      " 4   neighbourhood                   99163 non-null  object \n",
      " 5   lat                             99163 non-null  float64\n",
      " 6   long                            99163 non-null  float64\n",
      " 7   instant_bookable                99163 non-null  object \n",
      " 8   cancellation_policy             99163 non-null  object \n",
      " 9   room_type                       99163 non-null  object \n",
      " 10  construction_year               99163 non-null  float64\n",
      " 11  price                           98916 non-null  float64\n",
      " 12  service_fee                     98890 non-null  float64\n",
      " 13  minimum_nights                  99163 non-null  float64\n",
      " 14  number_of_reviews               99163 non-null  float64\n",
      " 15  last_review                     99163 non-null  object \n",
      " 16  reviews_per_month               99163 non-null  float64\n",
      " 17  review_rate_number              99163 non-null  float64\n",
      " 18  calculated_host_listings_count  99163 non-null  float64\n",
      " 19  days_booked                     99163 non-null  float64\n",
      " 20  house_rules                     99163 non-null  object \n",
      " 21  license                         99163 non-null  object \n",
      "dtypes: float64(11), object(11)\n",
      "memory usage: 17.4+ MB\n"
     ]
    }
   ],
   "source": [
    "data.info()"
   ]
  },
  {
   "cell_type": "code",
   "execution_count": 47,
   "id": "b7ae3c24",
   "metadata": {},
   "outputs": [
    {
     "name": "stdout",
     "output_type": "stream",
     "text": [
      "   host_identity_verified        room_type  count\n",
      "0                   other  Entire home/apt    148\n",
      "1                   other     Private room    136\n",
      "2                   other      Shared room      5\n",
      "3             unconfirmed  Entire home/apt  25996\n",
      "4             unconfirmed       Hotel room     57\n",
      "5             unconfirmed     Private room  22365\n",
      "6             unconfirmed      Shared room   1074\n",
      "7                verified  Entire home/apt  25859\n",
      "8                verified       Hotel room     58\n",
      "9                verified     Private room  22394\n",
      "10               verified      Shared room   1071\n"
     ]
    }
   ],
   "source": [
    "# Subset the relevant columns\n",
    "subset_df = data[['host_identity_verified', 'room_type']]\n",
    "\n",
    "# Group the data by 'host_identity_verified' and 'room_type' and count the occurrences\n",
    "grouped_df = subset_df.groupby(['host_identity_verified', 'room_type']).size().reset_index(name='count')\n",
    "\n",
    "print(grouped_df)"
   ]
  },
  {
   "cell_type": "code",
   "execution_count": 48,
   "id": "d61acc51",
   "metadata": {},
   "outputs": [
    {
     "data": {
      "image/png": "[encoded data removed]",
      "text/plain": [
       "<Figure size 800x600 with 1 Axes>"
      ]
     },
     "metadata": {},
     "output_type": "display_data"
    }
   ],
   "source": [
    "import pandas as pd\n",
    "import seaborn as sns\n",
    "import matplotlib.pyplot as plt\n",
    "\n",
    "# Subset the relevant columns\n",
    "subset_df = data[['host_identity_verified', 'room_type']]\n",
    "\n",
    "# Group the data by 'host_identity_verified' and 'room_type' and count the occurrences\n",
    "grouped_df = subset_df.groupby(['host_identity_verified', 'room_type']).size().reset_index(name='count')\n",
    "\n",
    "# Create a bar plot to visualize the relationship\n",
    "plt.figure(figsize=(8, 6))\n",
    "sns.barplot(data=grouped_df, x='room_type', y='count', hue='host_identity_verified')\n",
    "\n",
    "# Set the title and labels\n",
    "plt.title(\"Verification Rates by Room Type\")\n",
    "plt.xlabel(\"Room Type\")\n",
    "plt.ylabel(\"Count\")\n",
    "\n",
    "# Show the plot\n",
    "plt.show()\n"
   ]
  }
 ],
 "metadata": {
  "kernelspec": {
   "display_name": "Python 3 (ipykernel)",
   "language": "python",
   "name": "python3"
  },
  "language_info": {
   "codemirror_mode": {
    "name": "ipython",
    "version": 3
   },
   "file_extension": ".py",
   "mimetype": "text/x-python",
   "name": "python",
   "nbconvert_exporter": "python",
   "pygments_lexer": "ipython3",
   "version": "3.9.13"
  },
  "nteract": {
   "version": "0.28.0"
  }
 },
 "nbformat": 4,
 "nbformat_minor": 5
}
